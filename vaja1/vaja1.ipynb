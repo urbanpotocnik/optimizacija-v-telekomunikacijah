{
 "cells": [
  {
   "cell_type": "code",
   "execution_count": 1,
   "metadata": {},
   "outputs": [
    {
     "name": "stdout",
     "output_type": "stream",
     "text": [
      "TestStack size: 3 , data: ['A', 'B', 'C']\n",
      "TestStack size: 2 , data: ['A', 'B']\n",
      "Pop() returned:  B\n",
      "TestStack size: 1 , data: ['A']\n"
     ]
    }
   ],
   "source": [
    "from DataStructures import Stack, Queue \n",
    "\n",
    "sklad = Stack('TestStack') \n",
    "sklad.push('A') \n",
    "sklad.push('B') \n",
    "sklad.push('C') \n",
    "sklad.print() \n",
    "sklad.pop()\n",
    "sklad.print()\n",
    "print(\"Pop() returned: \", sklad.pop() ) \n",
    "sklad.print() "
   ]
  },
  {
   "cell_type": "code",
   "execution_count": 2,
   "metadata": {},
   "outputs": [
    {
     "name": "stdout",
     "output_type": "stream",
     "text": [
      "TestQueue size: 3 , data: ['A', 'B', 'C']\n",
      "Dequeue() returned:  A\n",
      "TestQueue size: 2 , data: ['B', 'C']\n"
     ]
    }
   ],
   "source": [
    "from DataStructures import Stack, Queue\n",
    "\n",
    "vrsta = Queue('TestQueue')\n",
    "\n",
    "vrsta.enqueue('A')\n",
    "vrsta.enqueue('B')\n",
    "vrsta.enqueue('C')\n",
    "\n",
    "vrsta.print()\n",
    "\n",
    "print(\"Dequeue() returned: \", vrsta.dequeue())\n",
    "vrsta.print()"
   ]
  },
  {
   "cell_type": "code",
   "execution_count": 3,
   "metadata": {},
   "outputs": [
    {
     "name": "stdout",
     "output_type": "stream",
     "text": [
      "nad nečnos pel ej senaD\n"
     ]
    }
   ],
   "source": [
    "text = 'Danes je lep sončen dan'\n",
    "output = ''\n",
    "\n",
    "s = Stack()\n",
    "\n",
    "for char in text:\n",
    "    s.push(char)\n",
    "\n",
    "while not s.empty():\n",
    "    output += s.pop()\n",
    "\n",
    "print(output)"
   ]
  },
  {
   "cell_type": "code",
   "execution_count": 4,
   "metadata": {},
   "outputs": [
    {
     "name": "stdout",
     "output_type": "stream",
     "text": [
      ".bnncrvmmdvnndnčnspljsnD\n"
     ]
    }
   ],
   "source": [
    "text = 'Danes je lep sončen dan in vidim mavrico na nebu.'\n",
    "output = ''\n",
    "\n",
    "s = Stack()\n",
    "\n",
    "vowels = {'a', 'e', 'i', 'o', 'u', ' '}\n",
    "\n",
    "for char in text:\n",
    "    if char.lower() not in vowels:\n",
    "        s.push(char)\n",
    "\n",
    "while not s.empty():\n",
    "    output += s.pop()\n",
    "\n",
    "print(output)"
   ]
  },
  {
   "cell_type": "code",
   "execution_count": 5,
   "metadata": {},
   "outputs": [
    {
     "name": "stdout",
     "output_type": "stream",
     "text": [
      "Bits size: 4 , data: [0, 1, 0, 1]\n"
     ]
    }
   ],
   "source": [
    "from DataStructures import Stack\n",
    "\n",
    "def decToBinary(x):\n",
    "    out = Stack('Bits')\n",
    "    while x > 0:\n",
    "        bit = x % 2\n",
    "        out.push(bit)\n",
    "        x = x // 2\n",
    "    return out\n",
    "\n",
    "binary_stack = decToBinary(10)\n",
    "binary_stack.print()"
   ]
  },
  {
   "cell_type": "code",
   "execution_count": 6,
   "metadata": {},
   "outputs": [
    {
     "name": "stdout",
     "output_type": "stream",
     "text": [
      "Decimal value: 10\n"
     ]
    }
   ],
   "source": [
    "def binaryToDecimal(st):\n",
    "    out = 0\n",
    "    potenca = 2 ** (st.size() - 1)\n",
    "    while not st.empty():\n",
    "        bit = st.pop()\n",
    "        out += bit * potenca\n",
    "        potenca = potenca // 2\n",
    "    return out\n",
    "\n",
    "binary_stack = decToBinary(10)\n",
    "print(\"Decimal value:\", binaryToDecimal(binary_stack))"
   ]
  },
  {
   "cell_type": "code",
   "execution_count": 9,
   "metadata": {},
   "outputs": [
    {
     "name": "stdout",
     "output_type": "stream",
     "text": [
      "Bits size: 2 , data: [15, 15]\n",
      "Decimal value: 255\n"
     ]
    }
   ],
   "source": [
    "def decToBase(x, base):\n",
    "    out = Stack('Bits')\n",
    "    while x > 0:\n",
    "        bit = x % base\n",
    "        out.push(bit)\n",
    "        x = x // base\n",
    "    return out\n",
    "\n",
    "def baseToDecimal(st, base):\n",
    "    out = 0\n",
    "    potenca = base ** (st.size() - 1)\n",
    "    while not st.empty():\n",
    "        bit = st.pop()\n",
    "        out += bit * potenca\n",
    "        potenca = potenca // base\n",
    "    return out\n",
    "\n",
    "base_stack = decToBase(255, 16)\n",
    "base_stack.print()\n",
    "print(\"Decimal value:\", baseToDecimal(base_stack, 16))"
   ]
  },
  {
   "cell_type": "code",
   "execution_count": null,
   "metadata": {},
   "outputs": [
    {
     "name": "stdout",
     "output_type": "stream",
     "text": [
      "Graph nodes: ['Ljubljana', 'Celje', 'Maribor', 'Ptuj', 'Murska Sobota', 'Krsko', 'Novo mesto', 'Kocevje', 'Postojna', 'Koper', 'Kranj', 'Jesenice', 'Nova Gorica', 'Velenje', 'Dravograd']\n",
      "Visit:  0 Ljubljana\n",
      "MyQueue size: 5 , data: ['Kranj', 'Novo mesto', 'Celje', 'Postojna', 'Kocevje']\n",
      "Visit:  1 Kranj\n",
      "MyQueue size: 5 , data: ['Novo mesto', 'Celje', 'Postojna', 'Kocevje', 'Jesenice']\n",
      "Visit:  2 Novo mesto\n",
      "MyQueue size: 5 , data: ['Celje', 'Postojna', 'Kocevje', 'Jesenice', 'Krsko']\n",
      "Visit:  3 Celje\n",
      "MyQueue size: 6 , data: ['Postojna', 'Kocevje', 'Jesenice', 'Krsko', 'Maribor', 'Velenje']\n",
      "Visit:  4 Postojna\n",
      "MyQueue size: 7 , data: ['Kocevje', 'Jesenice', 'Krsko', 'Maribor', 'Velenje', 'Nova Gorica', 'Koper']\n",
      "Visit:  5 Kocevje\n",
      "MyQueue size: 6 , data: ['Jesenice', 'Krsko', 'Maribor', 'Velenje', 'Nova Gorica', 'Koper']\n",
      "Visit:  6 Jesenice\n",
      "MyQueue size: 5 , data: ['Krsko', 'Maribor', 'Velenje', 'Nova Gorica', 'Koper']\n",
      "Visit:  7 Krsko\n",
      "MyQueue size: 4 , data: ['Maribor', 'Velenje', 'Nova Gorica', 'Koper']\n",
      "Visit:  8 Maribor\n",
      "MyQueue size: 5 , data: ['Velenje', 'Nova Gorica', 'Koper', 'Murska Sobota', 'Ptuj']\n",
      "Visit:  9 Velenje\n",
      "MyQueue size: 5 , data: ['Nova Gorica', 'Koper', 'Murska Sobota', 'Ptuj', 'Dravograd']\n",
      "Visit:  10 Nova Gorica\n",
      "MyQueue size: 4 , data: ['Koper', 'Murska Sobota', 'Ptuj', 'Dravograd']\n",
      "Visit:  11 Koper\n",
      "MyQueue size: 3 , data: ['Murska Sobota', 'Ptuj', 'Dravograd']\n",
      "Visit:  12 Murska Sobota\n",
      "MyQueue size: 2 , data: ['Ptuj', 'Dravograd']\n",
      "Visit:  13 Ptuj\n",
      "MyQueue size: 1 , data: ['Dravograd']\n",
      "Visit:  14 Dravograd\n",
      "MyQueue size: 0 , data: []\n",
      "Visited nodes:  [(0, 'Ljubljana'), (1, 'Kranj'), (2, 'Novo mesto'), (3, 'Celje'), (4, 'Postojna'), (5, 'Kocevje'), (6, 'Jesenice'), (7, 'Krsko'), (8, 'Maribor'), (9, 'Velenje'), (10, 'Nova Gorica'), (11, 'Koper'), (12, 'Murska Sobota'), (13, 'Ptuj'), (14, 'Dravograd')]\n"
     ]
    }
   ],
   "source": [
    "from DataStructures import Queue\n",
    "import matplotlib.pyplot as plt\n",
    "import networkx as nx\n",
    "\n",
    "G = nx.read_graphml('Slo_cities_tree.graphml')\n",
    "\n",
    "def visit_node(node, visited, visited_order, queue, graph, counter_list):\n",
    "    visited.add(node)\n",
    "    visited_order.append((counter_list[0], node))\n",
    "    print(\"Visit: \", counter_list[0], node)\n",
    "    counter_list[0] += 1\n",
    "    for sosed in graph.adj[node]:\n",
    "        if sosed not in visited:\n",
    "            queue.enqueue(sosed)\n",
    "    queue.print()\n",
    "\n",
    "visited = set()\n",
    "\n",
    "queue = Queue()\n",
    "\n",
    "counter_list = [0]\n",
    "\n",
    "node_order = []\n",
    "\n",
    "inputGr = G\n",
    "\n",
    "start_node = 'Ljubljana'\n",
    "\n",
    "print(\"Graph nodes:\", inputGr.nodes)\n",
    "\n",
    "node = start_node\n",
    "visit_node(node, visited, node_order, queue, inputGr, counter_list)\n",
    "\n",
    "while queue.size() > 0:\n",
    "    node = queue.dequeue()\n",
    "    if node not in visited:\n",
    "        visit_node(node, visited, node_order, queue, inputGr, counter_list)\n",
    "\n",
    "print(\"Visited nodes: \", node_order)"
   ]
  },
  {
   "cell_type": "code",
   "execution_count": 12,
   "metadata": {},
   "outputs": [
    {
     "name": "stdout",
     "output_type": "stream",
     "text": [
      "Graph nodes: ['Ljubljana', 'Celje', 'Maribor', 'Ptuj', 'Murska Sobota', 'Krsko', 'Novo mesto', 'Kocevje', 'Postojna', 'Koper', 'Kranj', 'Jesenice', 'Nova Gorica', 'Velenje', 'Dravograd']\n",
      "Visit:  0 Ljubljana\n",
      "MyQueue size: 5 , data: ['Kranj', 'Novo mesto', 'Celje', 'Postojna', 'Kocevje']\n",
      "Visit:  1 Kranj\n",
      "MyQueue size: 5 , data: ['Novo mesto', 'Celje', 'Postojna', 'Kocevje', 'Jesenice']\n",
      "Visit:  2 Novo mesto\n",
      "MyQueue size: 5 , data: ['Celje', 'Postojna', 'Kocevje', 'Jesenice', 'Krsko']\n",
      "Visit:  3 Celje\n",
      "MyQueue size: 6 , data: ['Postojna', 'Kocevje', 'Jesenice', 'Krsko', 'Maribor', 'Velenje']\n",
      "Visit:  4 Postojna\n",
      "MyQueue size: 7 , data: ['Kocevje', 'Jesenice', 'Krsko', 'Maribor', 'Velenje', 'Nova Gorica', 'Koper']\n",
      "Visit:  5 Kocevje\n",
      "MyQueue size: 6 , data: ['Jesenice', 'Krsko', 'Maribor', 'Velenje', 'Nova Gorica', 'Koper']\n",
      "Visit:  6 Jesenice\n",
      "MyQueue size: 5 , data: ['Krsko', 'Maribor', 'Velenje', 'Nova Gorica', 'Koper']\n",
      "Visit:  7 Krsko\n",
      "MyQueue size: 4 , data: ['Maribor', 'Velenje', 'Nova Gorica', 'Koper']\n",
      "Visit:  8 Maribor\n",
      "MyQueue size: 5 , data: ['Velenje', 'Nova Gorica', 'Koper', 'Murska Sobota', 'Ptuj']\n",
      "Visit:  9 Velenje\n",
      "MyQueue size: 5 , data: ['Nova Gorica', 'Koper', 'Murska Sobota', 'Ptuj', 'Dravograd']\n",
      "Visit:  10 Nova Gorica\n",
      "MyQueue size: 4 , data: ['Koper', 'Murska Sobota', 'Ptuj', 'Dravograd']\n",
      "Visit:  11 Koper\n",
      "MyQueue size: 3 , data: ['Murska Sobota', 'Ptuj', 'Dravograd']\n",
      "Visit:  12 Murska Sobota\n",
      "MyQueue size: 2 , data: ['Ptuj', 'Dravograd']\n",
      "Visit:  13 Ptuj\n",
      "MyQueue size: 1 , data: ['Dravograd']\n",
      "Visit:  14 Dravograd\n",
      "MyQueue size: 0 , data: []\n",
      "Visited nodes:  [(0, 'Ljubljana'), (1, 'Kranj'), (2, 'Novo mesto'), (3, 'Celje'), (4, 'Postojna'), (5, 'Kocevje'), (6, 'Jesenice'), (7, 'Krsko'), (8, 'Maribor'), (9, 'Velenje'), (10, 'Nova Gorica'), (11, 'Koper'), (12, 'Murska Sobota'), (13, 'Ptuj'), (14, 'Dravograd')]\n"
     ]
    }
   ],
   "source": [
    "from DataStructures import Queue\n",
    "import matplotlib.pyplot as plt\n",
    "import networkx as nx\n",
    "\n",
    "G = nx.read_graphml('Slo_cities_tree.graphml')\n",
    "\n",
    "def visit_node(node, visited, visited_order, queue, graph, counter_list):\n",
    "    visited.add(node)\n",
    "    visited_order.append((counter_list[0], node))\n",
    "    print(\"Visit: \", counter_list[0], node)\n",
    "    counter_list[0] += 1\n",
    "    for sosed in graph.adj[node]:\n",
    "        if sosed not in visited:\n",
    "            queue.enqueue(sosed)\n",
    "    queue.print()\n",
    "\n",
    "visited = set()\n",
    "\n",
    "queue = Queue()\n",
    "\n",
    "counter_list = [0]\n",
    "\n",
    "node_order = []\n",
    "\n",
    "inputGr = G\n",
    "\n",
    "start_node = 'Ljubljana'\n",
    "\n",
    "print(\"Graph nodes:\", inputGr.nodes)\n",
    "\n",
    "node = start_node\n",
    "visit_node(node, visited, node_order, queue, inputGr, counter_list)\n",
    "\n",
    "while queue.size() > 0:\n",
    "    node = queue.dequeue()\n",
    "    if node not in visited:\n",
    "        visit_node(node, visited, node_order, queue, inputGr, counter_list)\n",
    "\n",
    "print(\"Visited nodes: \", node_order)"
   ]
  },
  {
   "cell_type": "code",
   "execution_count": 13,
   "metadata": {},
   "outputs": [
    {
     "name": "stdout",
     "output_type": "stream",
     "text": [
      "Total time:  2195\n",
      "[0, 0, 0, 0, 1, 0, 0, 0, 0, 0, 0, 0, 0, 0, 0, 1, 2, 2, 1, 1, 1, 1, 1, 2, 1, 1, 1, 1, 0, 0, 1, 1, 2, 2, 1, 1, 2, 2, 2, 1, 0, 1, 1, 1, 2, 1, 1, 2, 2, 3, 4, 3, 3, 4, 4, 3, 4, 4, 4, 5, 6, 7, 7, 8, 8, 7, 7, 7, 8, 8, 7, 7, 6, 6, 7, 7, 7, 7, 7, 7, 8, 8, 7, 6, 5, 4, 4, 3, 4, 4, 5, 5, 5, 4, 3, 4, 4, 4, 5, 5, 6, 5, 6, 5, 5, 6, 6, 6, 6, 6, 6, 5, 4, 5, 6, 6, 5, 4, 4, 4, 5, 6, 7, 8, 8, 8, 7, 7, 7, 7, 7, 8, 7, 6, 7, 7, 7, 7, 8, 8, 7, 6, 6, 6, 5, 5, 5, 5, 6, 5, 5, 4, 3, 3, 3, 3, 3, 3, 3, 3, 3, 2, 1, 1, 1, 1, 2, 1, 0, 0, 0, 0, 0, 0, 1, 1, 1, 1, 2, 1, 0, 0, 0, 0, 0, 0, 0, 1, 1, 1, 1, 0, 0, 0, 0, 0, 0, 0, 0, 0, 0, 0, 0, 1, 2, 2, 1, 2, 3, 3, 2, 1, 2, 2, 3, 3, 3, 3, 3, 3, 3, 4, 4, 5, 5, 5, 6, 6, 5, 5, 4, 3, 2, 2, 3, 4, 5, 6, 5, 5, 5, 6, 6, 6, 6, 5, 6, 6, 7, 7, 7, 8, 8, 8, 8, 9, 9, 10, 10, 10, 10, 9, 9, 10, 10, 10, 9, 9, 8, 9, 10, 9, 10, 10, 10, 9, 9, 9, 8, 8, 8, 8, 8, 8, 9, 9, 9, 9, 10, 10, 11, 11, 11, 12, 12, 11, 11, 12, 12, 12, 11, 12, 12, 13, 14, 15, 14, 13, 12, 12, 12, 13, 13, 13, 12, 13, 12, 13, 13, 14, 14, 13, 14, 14, 13, 12, 12, 12, 11, 11, 11, 12, 12, 12, 12, 12, 12, 13, 13, 13, 13, 13, 14, 13, 14, 13, 13, 13, 13, 13, 12, 12, 13, 12, 12, 12, 12, 11, 12, 12, 12, 11, 10, 10, 10, 10, 10, 10, 10, 9, 9, 10, 11, 11, 10, 11, 11, 11, 10, 11, 12, 12, 12, 11, 11, 11, 11, 10, 10, 10, 9, 8, 9, 8, 8, 8, 7, 6, 5, 5, 6, 7, 8, 9, 9, 9, 8, 7, 7, 7, 8, 9, 8, 7, 8, 8, 7, 6, 6, 6, 5, 4, 4, 4, 4, 5, 4, 3, 4, 4, 4, 3, 2, 2, 3, 3, 3, 4, 3, 4, 4, 4, 3, 2, 2, 3, 3, 2, 3, 3, 3, 4, 4, 3, 3, 3, 4, 4, 5, 6, 6, 6, 6, 6, 6, 5, 6, 6, 6, 6, 6, 6, 7, 7, 7, 6, 7, 7, 7, 7, 6, 7, 7, 8, 8, 7, 6, 6, 6, 6, 6, 5, 5, 5, 5, 5, 6, 6, 6, 6, 7, 7, 8, 9, 9, 10, 11, 11, 10, 10, 11, 11, 11, 12, 13, 13, 12, 13, 12, 11, 10, 10, 10, 10, 10, 11, 11, 10, 11, 10, 11, 10, 11, 11, 11, 12, 12, 12, 13, 12, 12, 12, 12, 11, 11, 10, 10, 10, 10, 11, 11, 10, 11, 11, 11, 11, 11, 11, 10, 9, 8, 9, 10, 10, 9, 10, 9, 9, 8, 7, 7, 7, 7, 7, 7, 8, 8, 7, 6, 6, 7, 6, 7, 7, 7, 7, 6, 6, 7, 8, 9, 10, 10, 10, 10, 9, 8, 8, 7, 6, 5, 5, 5, 6, 7, 7, 8, 8, 8, 7, 6, 7, 7, 7, 8, 9, 10, 10, 10, 9, 10, 10, 9, 9, 9, 8, 9, 10, 10, 9, 10, 10, 11, 10, 9, 8, 9, 8, 9, 9, 8, 8, 9, 8, 9, 8, 7, 8, 8, 9, 9, 10, 10, 9, 9, 9, 9, 9, 9, 10, 9, 8, 8, 7, 8, 7, 6, 6, 7, 6, 7, 7, 7, 7, 8, 8, 8, 9, 9, 9, 9, 9, 10, 10, 11, 10, 11, 12, 12, 11, 10, 10, 10, 11, 12, 12, 12, 12, 12, 13, 13, 13, 13, 13, 13, 13, 13, 14, 13, 14, 15, 16, 16, 16, 15, 16, 17, 17, 18, 17, 16, 17, 18, 18, 17, 18, 17, 17, 17, 17, 16, 15, 15, 15, 16, 16, 15, 14, 14, 14, 15, 16, 16, 16, 16, 17, 16, 16, 16, 17, 16, 16, 16, 16, 15, 15, 14, 14, 13, 13, 13, 13, 13, 13, 13, 13, 12, 11, 12, 11, 10, 10, 11, 12, 11, 10, 10, 11, 10, 11, 11, 10, 11, 12, 12, 12, 11, 12, 13, 13, 12, 13, 13, 12, 12, 13, 12, 13, 14, 14, 13, 14, 13, 13, 12, 11, 11, 12, 11, 12, 11, 11, 10, 10, 10, 10, 10, 11, 11, 11, 12, 13, 13, 14, 15, 14, 14, 15, 15, 16, 17, 17, 17, 17, 16, 15, 14, 14, 15, 15, 15, 16, 16, 16, 17, 17, 17, 18, 18, 19, 20, 19, 20, 21, 21, 20, 20, 20, 20, 20, 20, 20, 20, 21, 21, 22, 23, 23, 24, 24, 24, 23, 23, 24, 23, 24, 24, 24, 24, 25, 25, 25, 25, 26, 27, 27, 27, 26, 27, 27, 27, 28, 28, 28, 28, 28, 28, 28, 28, 28, 28, 28, 27, 27, 26, 26, 25, 26, 25, 25, 26, 25, 25, 24, 23, 23, 23, 24, 25, 25, 26, 26, 26, 25, 26, 26, 26, 27, 27, 26, 27, 28, 28, 29, 29, 28, 29, 30, 30, 29, 28, 28, 29, 30, 30, 30, 31, 32, 33, 33, 33, 32, 31, 31, 31, 30, 31, 31, 32, 31, 31, 31, 30, 29, 30, 29, 29, 30, 29, 29, 28, 28, 28, 28, 28, 28, 27, 28, 28, 28, 28, 28, 28, 29, 29, 30, 30, 30, 30, 30, 30, 30, 29, 28, 28, 28, 29, 29, 30, 31, 30, 30, 30, 31, 31, 31, 31, 31, 31, 31, 31, 30, 30, 29, 30, 29, 29, 29, 29, 28, 28, 29, 29, 28, 27, 27, 27, 26, 27, 26, 25, 25, 24, 23, 24, 23, 24, 24, 23, 24, 23, 22, 23, 24, 25, 25, 25, 26, 27, 27, 27, 27, 27, 27, 26, 25, 25, 25, 26, 27, 27, 26, 27, 27, 27, 27, 26, 26, 27, 28, 28, 29, 28, 29, 30, 29, 30, 30, 30, 29, 28, 28, 28, 28, 28, 28, 28, 28, 27, 26, 25, 25, 25, 25, 26, 26, 26, 27, 28, 29, 29, 29, 30, 29, 30, 30, 30, 31, 32, 31, 32, 32, 33, 33, 33, 32, 33, 32, 33, 34, 35, 36, 35, 35, 36, 36, 37, 38, 38, 39, 39, 39, 38, 38, 38, 38, 38, 38, 38, 38, 38, 38, 37, 37, 37, 37, 37, 36, 36, 37, 38, 37, 38, 37, 36, 36, 37, 36, 37, 37, 37, 38, 37, 36, 36, 37, 37, 37, 36, 36, 36, 37, 36, 36, 36, 37, 38, 38, 38, 39, 38, 38, 39, 39, 40, 40, 40, 41, 40, 40, 41, 41, 41, 42, 42, 41, 40, 40, 40, 40, 40, 40, 41, 41, 41, 42, 42, 43, 43, 43, 43, 44, 44, 43, 43, 43, 43, 43, 43, 43, 42, 42, 41, 41, 40, 40, 39, 39, 38, 39, 40, 40, 41, 41, 41, 41, 40, 40, 40, 40, 40, 40, 40, 41, 42, 42, 43, 42, 41, 41, 40, 41, 42, 41, 40, 41, 41, 42, 42, 42, 42, 42, 42, 43, 44, 45, 45, 46, 46, 45, 46, 45, 44, 44, 45, 46, 45, 46, 45, 46, 46, 46, 45, 46, 46, 46, 46, 46, 47, 47, 48, 49, 48, 48, 49, 49, 50, 50, 50, 50, 51, 51, 50, 50, 49, 50, 51, 51, 51, 52, 51, 52, 52, 52, 52, 53, 54, 54, 54, 54, 54, 53, 53, 53, 54, 54, 54, 54, 55, 56, 56, 56, 56, 56, 56, 56, 57, 56, 56, 56, 55, 55, 55, 54, 53, 54, 54, 55, 56, 56, 56, 56, 56, 56, 56, 55, 55, 56, 56, 57, 56, 56, 57, 56, 56, 57, 56, 56, 57, 58, 58, 57, 57, 58, 57, 58, 58, 59, 58, 58, 57, 56, 57, 56, 56, 56, 55, 55, 56, 56, 56, 57, 58, 57, 56, 56, 57, 57, 57, 57, 56, 56, 57, 57, 57, 58, 59, 60, 60, 59, 59, 58, 58, 58, 58, 57, 57, 58, 57, 57, 58, 57, 56, 57, 58, 59, 59, 59, 60, 60, 60, 61, 60, 60, 60, 60, 60, 59, 60, 60, 61, 61, 60, 59, 59, 59, 58, 58, 58, 58, 58, 58, 57, 57, 57, 57, 56, 55, 56, 57, 57, 57, 56, 55, 55, 56, 56, 57, 58, 59, 60, 59, 60, 61, 61, 62, 61, 60, 61, 62, 61, 61, 61, 60, 60, 61, 62, 62, 62, 62, 62, 62, 61, 61, 62, 61, 60, 60, 60, 60, 60, 60, 59, 60, 59, 60, 60, 59, 59, 58, 59, 58, 58, 57, 57, 57, 58, 59, 59, 59, 60, 61, 60, 60, 60, 60, 61, 61, 62, 62, 63, 63, 64, 63, 63, 64, 63, 63, 63, 63, 62, 61, 62, 61, 61, 61, 62, 63, 63, 63, 62, 63, 63, 63, 62, 62, 62, 61, 60, 60, 60, 60, 61, 60, 60, 60, 60, 59, 59, 59, 58, 57, 56, 57, 57, 56, 56, 56, 56, 55, 56, 55, 54, 55, 54, 53, 53, 54, 53, 52, 52, 52, 52, 52, 53, 52, 52, 52, 52, 52, 52, 52, 52, 51, 52, 53, 53, 54, 55, 54, 55, 56, 55, 54, 54, 54, 54, 54, 53, 54, 53, 54, 54, 54, 55, 55, 56, 55, 55, 56, 56, 57, 58, 58, 58, 58, 59, 60, 60, 61, 62, 62, 62, 63, 63, 63, 63, 62, 63, 62, 61, 61, 62, 62, 62, 63, 63, 63, 64, 63, 62, 63, 64, 64, 65, 65, 65, 65, 66, 66, 67, 67, 67, 67, 66, 66, 66, 67, 68, 67, 66, 66, 66, 65, 65, 66, 66, 65, 64, 65, 64, 64, 64, 63, 63, 64, 63, 64, 63, 63, 64, 65, 65, 65, 66, 66, 66, 66, 67, 68, 68, 67, 66, 67, 67, 66, 67, 66, 67, 66, 66, 66, 67, 66, 67, 67, 67, 67, 68, 68, 69, 69, 70, 69, 70, 69, 69, 70, 70, 71, 71, 70, 71, 72, 71, 71, 72, 71, 71, 71, 71, 72, 71, 70, 70, 70, 70, 70, 70, 71, 71, 71, 72, 73, 74, 73, 72, 73, 73, 72, 72, 72, 71, 70, 70, 71, 70, 69, 70, 70, 69, 70, 70, 71, 72, 72, 73, 73, 74, 74, 73, 73, 73, 74, 73, 73, 72, 72, 72, 73, 72, 71, 71, 71, 70, 69, 68, 68, 67, 67, 68, 68, 68, 67, 68, 67, 67, 67, 68, 67, 67, 67, 67, 66, 66, 67, 68, 67, 67, 67, 66, 66, 65, 65, 64, 65, 66, 66, 67, 66, 66, 65, 65, 64, 64, 65, 65, 65, 66, 66, 67, 67, 68, 67, 66, 66, 67, 67, 67, 68, 68, 68, 69, 68, 68, 68, 68, 68, 69, 69, 69, 68, 69, 69, 68, 68, 68, 68, 68, 67, 68, 68, 68, 69, 69, 70, 71, 72, 72, 72, 73, 73, 72, 72, 73, 73, 74, 74, 73, 73, 74, 73, 74, 74, 75, 75, 76, 75, 75, 76, 76, 76, 77, 77, 77, 76, 77, 77, 78, 79, 79, 80, 81, 80, 81, 81, 82, 82, 83, 83, 84, 83, 83, 82, 83, 82, 83, 84, 84, 84, 84, 84, 83, 84, 83, 83, 83, 82, 81, 80, 81, 81, 81, 80, 80, 79, 78, 78, 77, 76, 75, 75, 74, 74, 75, 74, 74, 75, 74, 75, 75, 74, 74, 74, 73, 74, 74, 73, 73, 74, 74, 75, 75, 76, 76, 75, 75, 75, 76, 75, 75, 75, 75, 75, 74, 75, 76, 76, 76, 76, 77, 76, 76, 77, 77, 78, 78, 77, 76, 76, 77, 78, 78, 77, 78, 79, 78, 79, 79, 79, 78, 78, 77, 76, 75, 75, 75, 74, 74, 74, 74, 73, 72, 72, 71, 71, 70, 70, 69, 69, 69, 68, 68, 68, 67, 67, 66, 65, 64, 63, 62, 62, 61, 61, 60, 60, 60, 59, 59, 59, 58, 58, 58, 57, 56, 56, 56, 55, 54, 53, 53, 52, 52, 52, 52, 51, 51, 51, 51, 50, 49, 48, 48, 48, 47, 47, 46, 46, 46, 45, 45, 44, 43, 42, 42, 42, 42, 41, 40, 40, 39, 38, 37, 37, 36, 36, 36, 36, 36, 36, 35, 34, 33, 32, 32, 31, 30, 30, 29, 28, 28, 28, 28, 28, 28, 27, 27, 27, 27, 27, 27, 26, 26, 25, 25, 24, 23, 23, 22, 22, 21, 21, 21, 21, 20, 19, 18, 17, 16, 16, 15, 14, 14, 14, 14, 14, 13, 13, 13, 13, 13, 12, 12, 12, 11, 10, 10, 10, 9, 8, 7, 7, 7, 7, 7, 7, 6, 6, 5, 5, 5, 4, 4, 4, 4, 3, 3, 3, 2, 2, 2, 2, 2, 1, 0]\n",
      "[1, 2, 3, 4, 5, 6, 7, 8, 9, 10, 11, 12, 13, 14, 15, 16, 17, 18, 19, 20, 21, 22, 23, 24, 25, 26, 27, 28, 29, 30, 31, 32, 33, 34, 35, 36, 37, 38, 39, 40, 41, 42, 43, 44, 45, 46, 47, 48, 49, 50, 51, 52, 53, 54, 55, 56, 57, 58, 59, 60, 61, 62, 63, 64, 65, 66, 67, 68, 69, 70, 71, 72, 73, 74, 75, 76, 77, 78, 79, 80, 81, 82, 83, 84, 85, 86, 87, 88, 89, 90, 91, 92, 93, 94, 95, 96, 97, 98, 99, 100, 101, 102, 103, 104, 105, 106, 107, 108, 109, 110, 111, 112, 113, 114, 115, 116, 117, 118, 119, 120, 121, 122, 123, 124, 125, 126, 127, 128, 129, 130, 131, 132, 133, 134, 135, 136, 137, 138, 139, 140, 141, 142, 143, 144, 145, 146, 147, 148, 149, 150, 151, 152, 153, 154, 155, 156, 157, 158, 159, 160, 161, 162, 163, 164, 165, 166, 167, 168, 169, 170, 171, 172, 173, 174, 175, 176, 177, 178, 179, 180, 181, 182, 183, 184, 185, 186, 187, 188, 189, 190, 191, 192, 193, 194, 195, 196, 197, 198, 199, 200, 201, 202, 203, 204, 205, 206, 207, 208, 209, 210, 211, 212, 213, 214, 215, 216, 217, 218, 219, 220, 221, 222, 223, 224, 225, 226, 227, 228, 229, 230, 231, 232, 233, 234, 235, 236, 237, 238, 239, 240, 241, 242, 243, 244, 245, 246, 247, 248, 249, 250, 251, 252, 253, 254, 255, 256, 257, 258, 259, 260, 261, 262, 263, 264, 265, 266, 267, 268, 269, 270, 271, 272, 273, 274, 275, 276, 277, 278, 279, 280, 281, 282, 283, 284, 285, 286, 287, 288, 289, 290, 291, 292, 293, 294, 295, 296, 297, 298, 299, 300, 301, 302, 303, 304, 305, 306, 307, 308, 309, 310, 311, 312, 313, 314, 315, 316, 317, 318, 319, 320, 321, 322, 323, 324, 325, 326, 327, 328, 329, 330, 331, 332, 333, 334, 335, 336, 337, 338, 339, 340, 341, 342, 343, 344, 345, 346, 347, 348, 349, 350, 351, 352, 353, 354, 355, 356, 357, 358, 359, 360, 361, 362, 363, 364, 365, 366, 367, 368, 369, 370, 371, 372, 373, 374, 375, 376, 377, 378, 379, 380, 381, 382, 383, 384, 385, 386, 387, 388, 389, 390, 391, 392, 393, 394, 395, 396, 397, 398, 399, 400, 401, 402, 403, 404, 405, 406, 407, 408, 409, 410, 411, 412, 413, 414, 415, 416, 417, 418, 419, 420, 421, 422, 423, 424, 425, 426, 427, 428, 429, 430, 431, 432, 433, 434, 435, 436, 437, 438, 439, 440, 441, 442, 443, 444, 445, 446, 447, 448, 449, 450, 451, 452, 453, 454, 455, 456, 457, 458, 459, 460, 461, 462, 463, 464, 465, 466, 467, 468, 469, 470, 471, 472, 473, 474, 475, 476, 477, 478, 479, 480, 481, 482, 483, 484, 485, 486, 487, 488, 489, 490, 491, 492, 493, 494, 495, 496, 497, 498, 499, 500, 501, 502, 503, 504, 505, 506, 507, 508, 509, 510, 511, 512, 513, 514, 515, 516, 517, 518, 519, 520, 521, 522, 523, 524, 525, 526, 527, 528, 529, 530, 531, 532, 533, 534, 535, 536, 537, 538, 539, 540, 541, 542, 543, 544, 545, 546, 547, 548, 549, 550, 551, 552, 553, 554, 555, 556, 557, 558, 559, 560, 561, 562, 563, 564, 565, 566, 567, 568, 569, 570, 571, 572, 573, 574, 575, 576, 577, 578, 579, 580, 581, 582, 583, 584, 585, 586, 587, 588, 589, 590, 591, 592, 593, 594, 595, 596, 597, 598, 599, 600, 601, 602, 603, 604, 605, 606, 607, 608, 609, 610, 611, 612, 613, 614, 615, 616, 617, 618, 619, 620, 621, 622, 623, 624, 625, 626, 627, 628, 629, 630, 631, 632, 633, 634, 635, 636, 637, 638, 639, 640, 641, 642, 643, 644, 645, 646, 647, 648, 649, 650, 651, 652, 653, 654, 655, 656, 657, 658, 659, 660, 661, 662, 663, 664, 665, 666, 667, 668, 669, 670, 671, 672, 673, 674, 675, 676, 677, 678, 679, 680, 681, 682, 683, 684, 685, 686, 687, 688, 689, 690, 691, 692, 693, 694, 695, 696, 697, 698, 699, 700, 701, 702, 703, 704, 705, 706, 707, 708, 709, 710, 711, 712, 713, 714, 715, 716, 717, 718, 719, 720, 721, 722, 723, 724, 725, 726, 727, 728, 729, 730, 731, 732, 733, 734, 735, 736, 737, 738, 739, 740, 741, 742, 743, 744, 745, 746, 747, 748, 749, 750, 751, 752, 753, 754, 755, 756, 757, 758, 759, 760, 761, 762, 763, 764, 765, 766, 767, 768, 769, 770, 771, 772, 773, 774, 775, 776, 777, 778, 779, 780, 781, 782, 783, 784, 785, 786, 787, 788, 789, 790, 791, 792, 793, 794, 795, 796, 797, 798, 799, 800, 801, 802, 803, 804, 805, 806, 807, 808, 809, 810, 811, 812, 813, 814, 815, 816, 817, 818, 819, 820, 821, 822, 823, 824, 825, 826, 827, 828, 829, 830, 831, 832, 833, 834, 835, 836, 837, 838, 839, 840, 841, 842, 843, 844, 845, 846, 847, 848, 849, 850, 851, 852, 853, 854, 855, 856, 857, 858, 859, 860, 861, 862, 863, 864, 865, 866, 867, 868, 869, 870, 871, 872, 873, 874, 875, 876, 877, 878, 879, 880, 881, 882, 883, 884, 885, 886, 887, 888, 889, 890, 891, 892, 893, 894, 895, 896, 897, 898, 899, 900, 901, 902, 903, 904, 905, 906, 907, 908, 909, 910, 911, 912, 913, 914, 915, 916, 917, 918, 919, 920, 921, 922, 923, 924, 925, 926, 927, 928, 929, 930, 931, 932, 933, 934, 935, 936, 937, 938, 939, 940, 941, 942, 943, 944, 945, 946, 947, 948, 949, 950, 951, 952, 953, 954, 955, 956, 957, 958, 959, 960, 961, 962, 963, 964, 965, 966, 967, 968, 969, 970, 971, 972, 973, 974, 975, 976, 977, 978, 979, 980, 981, 982, 983, 984, 985, 986, 987, 988, 989, 990, 991, 992, 993, 994, 995, 996, 997, 998, 999, 1000]\n"
     ]
    },
    {
     "data": {
      "image/png": "[encoded data removed]",
      "text/plain": [
       "<Figure size 640x480 with 1 Axes>"
      ]
     },
     "metadata": {},
     "output_type": "display_data"
    }
   ],
   "source": [
    "import numpy as np\n",
    "import matplotlib.pyplot as plt\n",
    "from DataStructures import Queue\n",
    "\n",
    "input_data_size = 1000\n",
    "add_probability = 0.5\n",
    "remove_probability = 0.45\n",
    "time = 0\n",
    "input_number = 1\n",
    "\n",
    "buff_size = []\n",
    "time_list = []\n",
    "out_list = []\n",
    "\n",
    "buffer = Queue('Buffer')\n",
    "\n",
    "while not (input_number > input_data_size and buffer.empty()):\n",
    "    time_list.append(time)\n",
    "    time += 1\n",
    "\n",
    "    if np.absolute(np.random.random()) < add_probability and input_number <= input_data_size:\n",
    "        buffer.enqueue(input_number)\n",
    "        input_number += 1\n",
    "\n",
    "    if np.absolute(np.random.random()) < remove_probability:\n",
    "        out = buffer.dequeue()\n",
    "        if out != None:\n",
    "            out_list.append(out)\n",
    "\n",
    "    buff_size.append(buffer.size())\n",
    "\n",
    "print('Total time: ', time)\n",
    "print(buff_size)\n",
    "print(out_list)\n",
    "\n",
    "plt.figure()\n",
    "plt.plot(buff_size)\n",
    "plt.show()"
   ]
  }
 ],
 "metadata": {
  "kernelspec": {
   "display_name": "venv",
   "language": "python",
   "name": "python3"
  },
  "language_info": {
   "codemirror_mode": {
    "name": "ipython",
    "version": 3
   },
   "file_extension": ".py",
   "mimetype": "text/x-python",
   "name": "python",
   "nbconvert_exporter": "python",
   "pygments_lexer": "ipython3",
   "version": "3.12.3"
  }
 },
 "nbformat": 4,
 "nbformat_minor": 2
}
